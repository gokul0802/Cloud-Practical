{
  "nbformat": 4,
  "nbformat_minor": 0,
  "metadata": {
    "colab": {
      "provenance": [],
      "gpuType": "V28"
    },
    "kernelspec": {
      "name": "python3",
      "display_name": "Python 3"
    },
    "language_info": {
      "name": "python"
    },
    "accelerator": "TPU"
  },
  "cells": [
    {
      "cell_type": "code",
      "source": [
        "import tensorflow as tf\n",
        "import time\n",
        "from tensorflow.keras import datasets, layers, models\n",
        "import matplotlib.pyplot as plt\n",
        "import numpy as np"
      ],
      "metadata": {
        "id": "_qEygbOhRUKr"
      },
      "execution_count": null,
      "outputs": []
    },
    {
      "cell_type": "code",
      "source": [
        "# Load and normalize the dataset\n",
        "(x_train, y_train), (x_test, y_test) = datasets.cifar10.load_data()\n",
        "x_train, x_test = x_train / 255.0, x_test / 255.0\n",
        "\n",
        "# Check the shape\n",
        "print(f'Training data shape: {x_train.shape}')\n",
        "print(f'Testing data shape: {x_test.shape}')"
      ],
      "metadata": {
        "colab": {
          "base_uri": "https://localhost:8080/"
        },
        "id": "NA9oXQ-_RXQg",
        "outputId": "31d90707-3812-470c-e2ff-f0ef0a74ffcb"
      },
      "execution_count": null,
      "outputs": [
        {
          "output_type": "stream",
          "name": "stdout",
          "text": [
            "Downloading data from https://www.cs.toronto.edu/~kriz/cifar-10-python.tar.gz\n",
            "\u001b[1m170498071/170498071\u001b[0m \u001b[32m━━━━━━━━━━━━━━━━━━━━\u001b[0m\u001b[37m\u001b[0m \u001b[1m13s\u001b[0m 0us/step\n",
            "Training data shape: (50000, 32, 32, 3)\n",
            "Testing data shape: (10000, 32, 32, 3)\n"
          ]
        }
      ]
    },
    {
      "cell_type": "code",
      "source": [
        "def create_model():\n",
        "    model = models.Sequential([\n",
        "        layers.Conv2D(32, (3, 3), activation='relu', input_shape=(32, 32, 3)),\n",
        "        layers.MaxPooling2D((2, 2)),\n",
        "        layers.Conv2D(64, (3, 3), activation='relu'),\n",
        "        layers.MaxPooling2D((2, 2)),\n",
        "        layers.Flatten(),\n",
        "        layers.Dense(64, activation='relu'),\n",
        "        layers.Dense(10, activation='softmax')\n",
        "    ])\n",
        "    return model"
      ],
      "metadata": {
        "id": "Z-1GQAb9RbUv"
      },
      "execution_count": null,
      "outputs": []
    },
    {
      "cell_type": "code",
      "source": [
        "def benchmark(device):\n",
        "    with tf.device(device):\n",
        "        model = create_model()\n",
        "        model.compile(optimizer='adam',\n",
        "                      loss='sparse_categorical_crossentropy',\n",
        "                      metrics=['accuracy'])\n",
        "\n",
        "        start_time = time.time()\n",
        "        history = model.fit(x_train, y_train, epochs=5, batch_size=64, verbose=2,\n",
        "                            validation_data=(x_test, y_test))\n",
        "        end_time = time.time()\n",
        "\n",
        "        print(f\"\\nTraining on {device} took {end_time - start_time:.2f} seconds\")\n",
        "        return history"
      ],
      "metadata": {
        "id": "EjtQjXaLRgRe"
      },
      "execution_count": null,
      "outputs": []
    },
    {
      "cell_type": "code",
      "source": [
        "# CPU: set runtime to CPU in Runtime > Change runtime type > Hardware Accelerator: None\n",
        "history_cpu = benchmark('/CPU:0')"
      ],
      "metadata": {
        "colab": {
          "base_uri": "https://localhost:8080/"
        },
        "id": "K72vBizFRiL2",
        "outputId": "ba612c38-32bb-44d7-cf2c-9e08e5ca4b93"
      },
      "execution_count": null,
      "outputs": [
        {
          "output_type": "stream",
          "name": "stderr",
          "text": [
            "/usr/local/lib/python3.11/dist-packages/keras/src/layers/convolutional/base_conv.py:107: UserWarning: Do not pass an `input_shape`/`input_dim` argument to a layer. When using Sequential models, prefer using an `Input(shape)` object as the first layer in the model instead.\n",
            "  super().__init__(activity_regularizer=activity_regularizer, **kwargs)\n"
          ]
        },
        {
          "output_type": "stream",
          "name": "stdout",
          "text": [
            "Epoch 1/5\n",
            "782/782 - 61s - 78ms/step - accuracy: 0.4435 - loss: 1.5389 - val_accuracy: 0.5568 - val_loss: 1.2641\n",
            "Epoch 2/5\n",
            "782/782 - 79s - 101ms/step - accuracy: 0.5795 - loss: 1.1918 - val_accuracy: 0.6143 - val_loss: 1.1077\n",
            "Epoch 3/5\n",
            "782/782 - 83s - 106ms/step - accuracy: 0.6343 - loss: 1.0478 - val_accuracy: 0.6412 - val_loss: 1.0283\n",
            "Epoch 4/5\n",
            "782/782 - 83s - 106ms/step - accuracy: 0.6679 - loss: 0.9608 - val_accuracy: 0.6653 - val_loss: 0.9751\n",
            "Epoch 5/5\n",
            "782/782 - 83s - 107ms/step - accuracy: 0.6886 - loss: 0.8979 - val_accuracy: 0.6731 - val_loss: 0.9539\n",
            "\n",
            "Training on /CPU:0 took 412.69 seconds\n"
          ]
        }
      ]
    },
    {
      "cell_type": "code",
      "source": [
        "# GPU: set runtime to GPU in Runtime > Change runtime type > Hardware Accelerator: GPU\n",
        "history_gpu = benchmark('/GPU:0')"
      ],
      "metadata": {
        "colab": {
          "base_uri": "https://localhost:8080/"
        },
        "id": "8w5hBi-BRk_Y",
        "outputId": "47b67ae0-b3b3-4b36-aea3-f8fd78ca3580"
      },
      "execution_count": null,
      "outputs": [
        {
          "output_type": "stream",
          "name": "stderr",
          "text": [
            "/usr/local/lib/python3.11/dist-packages/keras/src/layers/convolutional/base_conv.py:107: UserWarning: Do not pass an `input_shape`/`input_dim` argument to a layer. When using Sequential models, prefer using an `Input(shape)` object as the first layer in the model instead.\n",
            "  super().__init__(activity_regularizer=activity_regularizer, **kwargs)\n"
          ]
        },
        {
          "output_type": "stream",
          "name": "stdout",
          "text": [
            "Epoch 1/5\n",
            "782/782 - 10s - 13ms/step - accuracy: 0.4559 - loss: 1.5218 - val_accuracy: 0.5436 - val_loss: 1.3037\n",
            "Epoch 2/5\n",
            "782/782 - 3s - 4ms/step - accuracy: 0.5849 - loss: 1.1824 - val_accuracy: 0.6073 - val_loss: 1.1594\n",
            "Epoch 3/5\n",
            "782/782 - 6s - 8ms/step - accuracy: 0.6372 - loss: 1.0443 - val_accuracy: 0.6438 - val_loss: 1.0361\n",
            "Epoch 4/5\n",
            "782/782 - 3s - 4ms/step - accuracy: 0.6699 - loss: 0.9511 - val_accuracy: 0.6628 - val_loss: 0.9739\n",
            "Epoch 5/5\n",
            "782/782 - 3s - 4ms/step - accuracy: 0.6941 - loss: 0.8790 - val_accuracy: 0.6722 - val_loss: 0.9533\n",
            "\n",
            "Training on /GPU:0 took 26.50 seconds\n"
          ]
        }
      ]
    },
    {
      "cell_type": "code",
      "source": [
        "!pip install tensorflow --quiet"
      ],
      "metadata": {
        "colab": {
          "base_uri": "https://localhost:8080/"
        },
        "id": "1gCc2q3lUTFJ",
        "outputId": "868ad7e6-bfb5-48e5-dbd7-86a6eed43ae6"
      },
      "execution_count": null,
      "outputs": [
        {
          "output_type": "stream",
          "name": "stdout",
          "text": [
            "\u001b[2K   \u001b[90m━━━━━━━━━━━━━━━━━━━━━━━━━━━━━━━━━━━━━━━━\u001b[0m \u001b[32m644.9/644.9 MB\u001b[0m \u001b[31m1.6 MB/s\u001b[0m eta \u001b[36m0:00:00\u001b[0m\n",
            "\u001b[2K   \u001b[90m━━━━━━━━━━━━━━━━━━━━━━━━━━━━━━━━━━━━━━━━\u001b[0m \u001b[32m57.5/57.5 kB\u001b[0m \u001b[31m4.1 MB/s\u001b[0m eta \u001b[36m0:00:00\u001b[0m\n",
            "\u001b[2K   \u001b[90m━━━━━━━━━━━━━━━━━━━━━━━━━━━━━━━━━━━━━━━━\u001b[0m \u001b[32m24.5/24.5 MB\u001b[0m \u001b[31m75.7 MB/s\u001b[0m eta \u001b[36m0:00:00\u001b[0m\n",
            "\u001b[2K   \u001b[90m━━━━━━━━━━━━━━━━━━━━━━━━━━━━━━━━━━━━━━━━\u001b[0m \u001b[32m5.5/5.5 MB\u001b[0m \u001b[31m107.0 MB/s\u001b[0m eta \u001b[36m0:00:00\u001b[0m\n",
            "\u001b[2K   \u001b[90m━━━━━━━━━━━━━━━━━━━━━━━━━━━━━━━━━━━━━━━━\u001b[0m \u001b[32m5.1/5.1 MB\u001b[0m \u001b[31m109.4 MB/s\u001b[0m eta \u001b[36m0:00:00\u001b[0m\n",
            "\u001b[2K   \u001b[90m━━━━━━━━━━━━━━━━━━━━━━━━━━━━━━━━━━━━━━━━\u001b[0m \u001b[32m6.6/6.6 MB\u001b[0m \u001b[31m111.9 MB/s\u001b[0m eta \u001b[36m0:00:00\u001b[0m\n",
            "\u001b[2K   \u001b[90m━━━━━━━━━━━━━━━━━━━━━━━━━━━━━━━━━━━━━━━━\u001b[0m \u001b[32m224.5/224.5 kB\u001b[0m \u001b[31m16.3 MB/s\u001b[0m eta \u001b[36m0:00:00\u001b[0m\n",
            "\u001b[2K   \u001b[90m━━━━━━━━━━━━━━━━━━━━━━━━━━━━━━━━━━━━━━━━\u001b[0m \u001b[32m72.5/72.5 kB\u001b[0m \u001b[31m5.2 MB/s\u001b[0m eta \u001b[36m0:00:00\u001b[0m\n",
            "\u001b[?25h"
          ]
        }
      ]
    },
    {
      "cell_type": "code",
      "source": [
        "import tensorflow as tf\n",
        "print(\"✅ TensorFlow version:\", tf.__version__)"
      ],
      "metadata": {
        "colab": {
          "base_uri": "https://localhost:8080/"
        },
        "id": "wb24e1GgUdXo",
        "outputId": "a9d3fbd0-2eed-4dd6-a26b-66adf33f074d"
      },
      "execution_count": null,
      "outputs": [
        {
          "output_type": "stream",
          "name": "stdout",
          "text": [
            "✅ TensorFlow version: 2.19.0\n"
          ]
        }
      ]
    },
    {
      "cell_type": "code",
      "source": [
        "import tensorflow as tf\n",
        "import numpy as np\n",
        "import time\n",
        "from tensorflow.keras import layers, models, datasets\n",
        "\n",
        "# Detect and initialize the TPU\n",
        "try:\n",
        "    resolver = tf.distribute.cluster_resolver.TPUClusterResolver()  # Detect TPU\n",
        "    tf.config.experimental_connect_to_cluster(resolver)\n",
        "    tf.tpu.experimental.initialize_tpu_system(resolver)\n",
        "    strategy = tf.distribute.TPUStrategy(resolver)\n",
        "    print(\"✅ TPU initialized successfully!\")\n",
        "except ValueError:\n",
        "    print(\"❌ TPU not found. Please enable TPU in Runtime settings.\")"
      ],
      "metadata": {
        "colab": {
          "base_uri": "https://localhost:8080/"
        },
        "id": "Lh1EQQCRUjSI",
        "outputId": "0a2e9cfb-96e3-496b-89ba-12bf77e2f782"
      },
      "execution_count": null,
      "outputs": [
        {
          "output_type": "stream",
          "name": "stdout",
          "text": [
            "❌ TPU not found. Please enable TPU in Runtime settings.\n"
          ]
        }
      ]
    },
    {
      "cell_type": "code",
      "source": [
        "import os\n",
        "print(\"COLAB_TPU_ADDR:\", os.environ.get(\"COLAB_TPU_ADDR\"))"
      ],
      "metadata": {
        "colab": {
          "base_uri": "https://localhost:8080/"
        },
        "id": "KNXmjRgYUtKg",
        "outputId": "40d46cc3-2cff-4e47-e61d-928b2dd64dd4"
      },
      "execution_count": null,
      "outputs": [
        {
          "output_type": "stream",
          "name": "stdout",
          "text": [
            "COLAB_TPU_ADDR: None\n"
          ]
        }
      ]
    },
    {
      "cell_type": "code",
      "source": [],
      "metadata": {
        "id": "3WmRhyoQU8sv"
      },
      "execution_count": null,
      "outputs": []
    }
  ]
}